{
 "metadata": {
  "name": "",
  "signature": "sha256:feef6d8c585c8e067aa2654a08ac93e75df89045acac8423586b7b06180dc07c"
 },
 "nbformat": 3,
 "nbformat_minor": 0,
 "worksheets": [
  {
   "cells": [
    {
     "cell_type": "heading",
     "level": 6,
     "metadata": {},
     "source": [
      "Content under Creative Commons Attriubtion license CC-BY 4.0, (c)2014 Ian A. Carr, for Prof. L. A. Barba's MAE 6286 course at The George Washington University."
     ]
    },
    {
     "cell_type": "heading",
     "level": 1,
     "metadata": {},
     "source": [
      "Shoot First, Ask Questions Later"
     ]
    },
    {
     "cell_type": "markdown",
     "metadata": {},
     "source": [
      "First, congratulations on making it to the 5th module of #numericalmooc! It's been quite a journey. There are two objectives in this notebook. One is to introduce a useful way of solving boundary value problems (BVP) called the shooting method. The second is to start applying our knowledge of numerics to the complex world of fluid motion. Let's get started!"
     ]
    },
    {
     "cell_type": "heading",
     "level": 2,
     "metadata": {},
     "source": [
      "The Blasius Boundary Layer"
     ]
    },
    {
     "cell_type": "markdown",
     "metadata": {},
     "source": [
      "Computational fluid dynamics is a very complex field. We are going to get started with a relatively simple problem. As the title suggests, it's called the Blasius Boundary Layer.\n",
      "\n",
      "In case some of you are a little rusty in your fluid mechanics knowledge, you can check out the [wikipedia page](http://en.wikipedia.org/wiki/Boundary_layer) on boundary layers to get an idea. Put simply, a boundary layer is a thin layer of fluid just above a surface. The effect of the fluid's viscosity is greatest within this thin layer. Boundary layers can get very complex depending on the flow conditions and geometry of the surface, but today we are going to look at a very simple one.\n",
      "\n",
      "Figure 1 shows fluid moving over a flat plate which continues infinitely in the positive x direction. The fluid moves with a unidirectional velocity we're calling $u_{\\infty}$. A student named Heinrich Blasius came up with an interesting solution to this problem in 1908, and that's what we are going to explore today. \n",
      "\n",
      "![Image](./figures/boundary-layer.svg)\n",
      "####Figure 1. Sketch of a boundary layer over a flat plate.\n",
      "\n",
      "This flow field can be described with a single equation, a 3rd order, nonlinear ODE, but a single equation no less. To understand how this boils down to a single equation we have to go through a bit of derivation first. For those of you unfamiliar with fluids this is all the more critical in understanding this problem.\n",
      "\n",
      "For this derivation we assume the flow is two-dimensional, steady, incompressible, and has zero pressure gradient. This means we can get rid of a lot of terms in the continuity equation and the equation of fluid motion ([Navier-Stokes](http://en.wikipedia.org/wiki/Navier%E2%80%93Stokes_equations)). Specifically the continuity equation reduces to\n",
      "\n",
      "\\begin{equation}\n",
      "\\frac{\\partial u}{\\partial x} + \\frac{\\partial v}{\\partial y} = 0,\n",
      "\\end{equation}\n",
      "\n",
      "and the equation of motion reduces to\n",
      "\n",
      "\\begin{equation}\n",
      "u \\frac{\\partial u}{\\partial x} + v \\frac{\\partial u}{\\partial y} = \\nu. \\frac{\\partial^2 u}{\\partial y^2}.\n",
      "\\end{equation}\n",
      "\n",
      "With some boundary conditions due to the no-slip condition at the surface of the plate\n",
      "\n",
      "\\begin{equation}\n",
      "u = v = 0 \\; \\textrm{at} \\; y = 0,\\\\\n",
      "u = U, \\; \\frac{\\partial u}{\\partial y} = 0\\; \\textrm{at} \\; y = \\infty.\n",
      "\\end{equation}\n",
      "\n",
      "From here Blasius reasoned the velocity profile should look *similar* for all values of x when compared to a non-dimentional distance from the wall. This means when the non-dimensional velocity is plotted against non-dimentional distance, the profile is the same for all scales. The obvious choice for non-dimentionalizing the distance from the wall is the [boundary layer thickness](http://en.wikipedia.org/wiki/Boundary_layer), $\\delta$ in Figure 1. Blasius decided to call this non-dimentional distance $\\eta$, termed the *similarity variable*. \n",
      "\n",
      "Just from these assumptions we can see the solution would take the form\n",
      "\n",
      "\\begin{equation}\n",
      "\\frac{u}{U} = g(\\eta) \\; \\textrm{where} \\; \\eta \\propto \\frac{y}{\\delta}.\n",
      "\\end{equation}\n",
      "\n",
      "Inspired by the Stokes solution, Blasius defined $\\eta$ as\n",
      "\n",
      "\\begin{equation}\n",
      "\\eta = y \\sqrt{\\frac{U}{\\nu x}}.\n",
      "\\end{equation}\n",
      "\n",
      "You still with me? Good. Now we have to introduce what's called a [stream function](http://en.wikipedia.org/wiki/Stream_function). If you're unfamiliar with this concept it's a set of equations which describe the stream lines in a given flow. In this case the stream function, $\\Psi$, is\n",
      "\n",
      "\\begin{equation}\n",
      "u = \\frac{\\partial \\Psi}{\\partial y} \\; \\textrm{and} \\; v = -\\frac{\\partial \\Psi}{\\partial x}\n",
      "\\end{equation}\n",
      "\n",
      "As said, we are working with non-dimentional values due to the similarity assumption, so we want to make this stream function dimensionless. To do this we put $u$ and $v$ into the equation of motion, which gives\n",
      "\n",
      "\\begin{equation}\n",
      "f(\\eta) = \\frac{\\Psi}{\\sqrt{\\nu x U}}.\n",
      "\\end{equation}\n",
      "\n",
      "Now that we have the stream function, $\\Psi$, and the similarity variable, $\\eta$, defined we can pull out the velocity components. Sparing some algebra, the velocity components are given by\n",
      "\n",
      "\\begin{equation}\n",
      "u = U \\frac{df}{d \\eta},\n",
      "\\end{equation}\n",
      "\n",
      "\\begin{equation}\n",
      "v = \\frac{1}{2} \\sqrt{\\frac{\\nu U}{x}} \\left[ \\eta \\frac{df}{d \\eta} -f \\right].\n",
      "\\end{equation}\n",
      "\n",
      "Now we want to fit these velocity components into the equation of motion and to do that we need to differentiate them. These come out to \n",
      "\n",
      "\\begin{equation}\n",
      "\\frac{\\partial u}{\\partial x} = -\\frac{U}{2x} \\eta \\frac{d^2 f}{d \\eta^2},\n",
      "\\end{equation}\n",
      "\n",
      "\\begin{equation}\n",
      "\\frac{\\partial u}{\\partial y} = U \\sqrt{U/\\nu x} \\frac{d^2 f}{d \\eta^2},\n",
      "\\end{equation}\n",
      "\n",
      "and for that second derivative,\n",
      "\n",
      "\\begin{equation}\n",
      "\\frac{\\partial^2 u}{\\partial y^2} = \\frac{U^2}{\\nu x} \\frac{d^3 f}{d \\eta^3}. \n",
      "\\end{equation}\n",
      "\n",
      "Finally, we plug those into the equation of motion to find\n",
      "\n",
      "\\begin{equation}\n",
      "2 \\frac{d^3 f}{d \\eta^3} + f \\frac{d^2 f}{d \\eta^2} = 0.\n",
      "\\end{equation}\n",
      "\n",
      "And that's it! That's the Blasius Boundary Layer Solution, the single 3rd order non-linear ODE we need to solve. Not too bad right? We need to make sure we have the boundary conditions in terms of $f$ and $\\eta$. \n",
      "\n",
      "\\begin{equation}\n",
      "f = \\frac{df}{d \\eta} = 0 \\; \\textrm{at} \\; \\eta = 0,\\\\\n",
      "\\frac{df}{d \\eta} \\rightarrow 1 \\; \\textrm{at} \\; \\eta \\rightarrow \\infty.\n",
      "\\end{equation}\n",
      "\n",
      "Now we need to talk about how we will go about solving this equation.\n",
      "\n",
      "\n",
      "\n"
     ]
    },
    {
     "cell_type": "heading",
     "level": 2,
     "metadata": {},
     "source": [
      "The Shooting Method"
     ]
    },
    {
     "cell_type": "markdown",
     "metadata": {},
     "source": [
      "The shooting method provides us with the simplest way to solve the Blasius Boundary Layer. So to get the idea, suppose we have a (BVP) with Dirichlet boundary conditions\n",
      "\n",
      "\\begin{equation}\n",
      "y'' = f(x,y,y'), \\; y(a) = \\alpha, \\; y(b) = \\beta .\n",
      "\\end{equation}\n",
      "\n",
      "We then rearrange the BVP to the form\n",
      "\n",
      "\\begin{equation}\n",
      "y' = z, \\\\\n",
      "z' = f(x,y,z), \\\\\n",
      "y(a) = \\alpha, \\\\\n",
      "y(b) = \\beta.\n",
      "\\end{equation}\n",
      "\n",
      "We can then turn the BVP above into an Initial Value Problem (IVP) by replacing the boundary condition $y(b)$ with\n",
      "\n",
      "\\begin{equation}\n",
      "z(a) = \\theta,\n",
      "\\end{equation}\n",
      "\n",
      "where $\\theta$ is some number. We can then solve the IVP with the method of our choosing (Euler, Runge-Kutta, etc.) to obtain the solution at $y(b)$. If, when we solve the IVP, $y(b) = \\beta$, we've done it! We've solved the BVP! Mostly likely, though,  $y(b) \\neq \\beta$ on the first try and we will have to try other values of $\\theta$ before we find the right one. \n",
      "\n",
      "So what would it take to apply the shooting method to the Blasius boundary layer?\n"
     ]
    },
    {
     "cell_type": "heading",
     "level": 3,
     "metadata": {},
     "source": [
      "Converting to an IVP"
     ]
    },
    {
     "cell_type": "markdown",
     "metadata": {},
     "source": [
      "As said, the first step in implimenting the shooting method is turning the BVP into an IVP. To reiterate, we want to rewrite Blasius Boundary Layer Solution in such a way that it only involves the first derivative and can therefore be solved as an IVP. In this case the three equations are\n",
      "\n",
      "\\begin{equation}\n",
      "\\frac{df}{d \\eta} = f_1 \\; \\textrm{with } f(0) = 0,\n",
      "\\end{equation}\n",
      "\n",
      "\\begin{equation}\n",
      "\\frac{df_1}{d \\eta} = f_2 \\; \\textrm{with } f_1(0) = 0,\\: f_1(\\infty)=1,\n",
      "\\end{equation}\n",
      "\n",
      "\\begin{equation}\n",
      "\\frac{df_2}{d \\eta} = \\frac{1}{2} f_2*f \\; \\textrm{with } f_2(0) = ?.\n",
      "\\end{equation}\n",
      "\n",
      "The term we have to 'shoot' for is $f_2(0)$, and we can use the knowledge that $f_1(\\infty) = 1$ to do so."
     ]
    },
    {
     "cell_type": "heading",
     "level": 3,
     "metadata": {},
     "source": [
      "Euler's Method"
     ]
    },
    {
     "cell_type": "markdown",
     "metadata": {},
     "source": [
      "So now that we have the problem laid out, we need to pick a way of solving the ODE. Let's use the simplest one for now, Euler's method. You'll remember we worked with this method way back in the first module on phugoid motion. Applying Euler's method to the IVP equations gives\n",
      "\n",
      "\\begin{equation}\n",
      "f^{i+1} = f^i + f^i *d \\eta\n",
      "\\end{equation}\n",
      "\n",
      "\\begin{equation}\n",
      "f^{i+1}_1 = f_1^i + f_2^i * d \\eta\n",
      "\\end{equation}\n",
      "\n",
      "\\begin{equation}\n",
      "f^{i+1}_2 = f_2^i - \\frac{1}{2} * f^i * f_2^i*d \\eta\n",
      "\\end{equation}\n",
      "\n",
      "And to make sure, the subscripts indicate the level of separation when turning the BVP into an IVP and the superscripts indicate the iterative scheme step.\n",
      "\n",
      "Finally, let's start coding this up."
     ]
    },
    {
     "cell_type": "code",
     "collapsed": false,
     "input": [
      "%matplotlib inline\n",
      "import numpy as np\n",
      "import matplotlib.pyplot as plt\n",
      "from matplotlib import rcParams\n",
      "rcParams['font.family'] = 'serif'\n",
      "rcParams['font.size'] = 16"
     ],
     "language": "python",
     "metadata": {},
     "outputs": [],
     "prompt_number": 154
    },
    {
     "cell_type": "code",
     "collapsed": false,
     "input": [
      "nfinal = 8.\t# final value of eta, called n here\n",
      "dn = 0.01\t# step size\n",
      "N = int(nfinal/dn)  # number of time steps\n",
      "n = np.linspace(0.0,nfinal,N)"
     ],
     "language": "python",
     "metadata": {},
     "outputs": [],
     "prompt_number": 155
    },
    {
     "cell_type": "code",
     "collapsed": false,
     "input": [
      "# arrays to be filled with values\n",
      "f = np.zeros(N)\n",
      "f1 = np.zeros(N)\n",
      "f2 = np.zeros(N)\n",
      "\n",
      "# initial conditions\n",
      "f[0] = 0. \n",
      "f1[0] = 0."
     ],
     "language": "python",
     "metadata": {},
     "outputs": [],
     "prompt_number": 156
    },
    {
     "cell_type": "markdown",
     "metadata": {},
     "source": [
      "Now, as said, we want to guess the initial value of $f_2$ such that our $f_1(\\infty) = 1$ boundary condition is met. We could do this manually b changing the first value, which would look something like this."
     ]
    },
    {
     "cell_type": "code",
     "collapsed": false,
     "input": [
      "# manual way for shooting method\n",
      "f2[0] = 0.25"
     ],
     "language": "python",
     "metadata": {},
     "outputs": [],
     "prompt_number": 157
    },
    {
     "cell_type": "markdown",
     "metadata": {},
     "source": [
      "But obviously, this is too much work and not what we're going to do. Instead let's just choose an arbitrarily high value for $\\eta$, say 5. If we break it up into sufficentialy small steps we should be able to run through them until we find the one which matches our boundary condition. We then solve with each initial guess for $f_2(0)$ using Euler's method and print the final values to see how we did.\n",
      "\n",
      "Also, let's take a look at how many guesses it took to get to the right value."
     ]
    },
    {
     "cell_type": "code",
     "collapsed": false,
     "input": [
      "# our shot for the value of f at infinity\n",
      "f2shot = np.linspace(0.0,5.0,1000)\n",
      "\n",
      "for i in range(len(f2shot)):\n",
      "    f2[0] = f2shot[i]\n",
      "    \n",
      "    # iterating using euler's method\n",
      "    for j in range(0,N-1):\n",
      "        f[j+1] = f[j] + f1[j]*dn\n",
      "        f1[j+1] = f1[j] + f2[j]*dn\n",
      "        f2[j+1] = f2[j] - 0.5*f[j]*f2[j]*dn\n",
      "    if f1[-1] >= 1.0:\n",
      "        print 'Final value of f1: ',f1[-1]\n",
      "        print 'Chosen value of f2[0]: ', f2[0]\n",
      "        print 'Number of guesses: ',i\n",
      "        break"
     ],
     "language": "python",
     "metadata": {},
     "outputs": [
      {
       "output_type": "stream",
       "stream": "stdout",
       "text": [
        "Final value of f1:  1.00004245252\n",
        "Chosen value of f2[0]:  0.33033033033\n",
        "Number of guesses:  66\n"
       ]
      }
     ],
     "prompt_number": 158
    },
    {
     "cell_type": "markdown",
     "metadata": {},
     "source": [
      "The last value of $f_1$, which is representative of it approaching $\\infty$, is pretty close to 1, which is what we expect. The correct initial value for $f_2$ was about 0.33, which agrees with the literature. Also, let's make a mental note of the number of guesses it took to find the right one.\n",
      "\n",
      "Now, let's look at how the non-dimentionalized velocity in the x direction changes as we move away from the wall."
     ]
    },
    {
     "cell_type": "code",
     "collapsed": false,
     "input": [
      "# plotting x-component of velocity\n",
      "plt.figure()\n",
      "plt.plot(f1,n,lw=2)\n",
      "plt.xlabel('x-component of velocity',fontsize=18)\n",
      "plt.ylabel('$\\eta$',fontsize=18)"
     ],
     "language": "python",
     "metadata": {},
     "outputs": [
      {
       "metadata": {},
       "output_type": "pyout",
       "prompt_number": 159,
       "text": [
        "<matplotlib.text.Text at 0x10807b3d0>"
       ]
      },
      {
       "metadata": {},
       "output_type": "display_data",
       "png": "[encoded data removed]",
       "text": [
        "<matplotlib.figure.Figure at 0x1080b2f10>"
       ]
      }
     ],
     "prompt_number": 159
    },
    {
     "cell_type": "markdown",
     "metadata": {},
     "source": [
      "Looks pretty good right? If you go to the [Blasius Boundary Layer](http://en.wikipedia.org/wiki/Blasius_boundary_layer) wikipedia page you can see our solution lines up pretty well with their figure.\n",
      "\n",
      "We can do the same with the y-component of velocity."
     ]
    },
    {
     "cell_type": "code",
     "collapsed": false,
     "input": [
      "# plotting y-component of velocity\n",
      "plt.figure()\n",
      "plt.plot((0.5*(f1*n-f)),n,lw=2)\n",
      "plt.xlabel('y-component of velocity', fontsize=18)\n",
      "plt.ylabel('$\\eta$', fontsize=18)"
     ],
     "language": "python",
     "metadata": {},
     "outputs": [
      {
       "metadata": {},
       "output_type": "pyout",
       "prompt_number": 160,
       "text": [
        "<matplotlib.text.Text at 0x107f9a0d0>"
       ]
      },
      {
       "metadata": {},
       "output_type": "display_data",
       "png": "[encoded data removed]",
       "text": [
        "<matplotlib.figure.Figure at 0x1082e0b50>"
       ]
      }
     ],
     "prompt_number": 160
    },
    {
     "cell_type": "markdown",
     "metadata": {},
     "source": [
      "Again, this figure matches the known solution.\n",
      "\n",
      "Let's get back to the 66 guesses it took to get to the right initial value of $f_2$. We got to the solution by working our way up from 0 in small increments. That's not exactly a very clever way of doing things. Let's look into another method that might reduce the number of guesses we need to take. "
     ]
    },
    {
     "cell_type": "heading",
     "level": 2,
     "metadata": {},
     "source": [
      "The Newton-Raphson Method"
     ]
    },
    {
     "cell_type": "markdown",
     "metadata": {},
     "source": [
      "We want to improve the way we \"aim\" before we use the shooting method. An intuative way of doing this would be to compare each shot to the target value and adjust accordingly. This is exactly what the Newton-Raphson method does.\n",
      "\n",
      "Given a reasonable guess, the Newton-Raphson Method uses the derivative of the function to determine the next guess. This method can then be used iteratively to narrow in on the correct answer using the following equation.\n",
      "\n",
      "\\begin{equation}\n",
      "x_{n+1} = x_n - \\frac{f(x_n)}{f'(x_n)}\n",
      "\\end{equation}\n",
      "\n",
      "As you can see this equation requires we know the derivative, $f'(x_n)$, of the function we are working with. In the case of the Blasius Boundary Layer equation, we need to take the derivative of the 3 IVPs determined earlier. This results in\n",
      "\n",
      "\\begin{equation}\n",
      "\\frac{df_3}{d \\eta} = f_4 \\; \\textrm{with} \\; f_3(0) = 0,\n",
      "\\end{equation}\n",
      "\n",
      "\\begin{equation}\n",
      "\\frac{df_4}{d \\eta} = f_5, \\; \\textrm{with } f_4(0) = 0,\n",
      "\\end{equation}\n",
      "\n",
      "\\begin{equation}\n",
      "\\frac{df_5}{d \\eta} = \\frac{1}{2}(f_3*f_2 + f*f_5)\\; \\textrm{with}\\; f_5(0) = 1.\n",
      "\\end{equation}\n",
      "\n",
      "As before, we discretize these equations and apply Euler's method to form\n",
      "\n",
      "\\begin{equation}\n",
      "f_3^{i+1} = f_3^i + f_3^i *d \\eta,\n",
      "\\end{equation}\n",
      "\n",
      "\\begin{equation}\n",
      "f_4^{i+1} = f_4^i + f_5^i * d \\eta,\n",
      "\\end{equation}\n",
      "\n",
      "\\begin{equation}\n",
      "f_5^{i+1} = f_5^i - \\frac{1}{2}(f_3^i* f_2^i + f^i * f_5^i) * d \\eta .\n",
      "\\end{equation}\n",
      "\n",
      "We then use these equations in the Newton-Raphson method to narrow in on the result. The adaptation of the general Newton-Raphson equation for this problem is\n",
      "\n",
      "\\begin{equation}\n",
      "f_2(0) \\leftarrow f_2(0) - \\frac{f_2(\\infty)-1}{f_5(\\infty)}.\n",
      "\\end{equation}\n",
      "\n",
      "Okay, so now that we have all that on the table, let's code it up and see how we've improved.\n",
      "\n",
      "The speed of the method depends on the quality of the initial guess. With most applications it's possible to make an educated guess for this value. Let's start with 0.2 for now."
     ]
    },
    {
     "cell_type": "code",
     "collapsed": false,
     "input": [
      "# starting with a reasonable guess for f2\n",
      "f2guess = np.empty(N)\n",
      "f2guess[0] = 0.2\n",
      "\n",
      "# arrays to be filled by derivative functions\n",
      "f3 = np.zeros(N)\n",
      "f4 = np.zeros(N)\n",
      "f5 = np.zeros(N)\n",
      "\n",
      "# imposing initial condition\n",
      "f5[0]=1"
     ],
     "language": "python",
     "metadata": {},
     "outputs": [],
     "prompt_number": 161
    },
    {
     "cell_type": "markdown",
     "metadata": {},
     "source": [
      "Now let's loop through both the original IVPs and the derivatives. Because this method doesn't simply grow the way the simple shooting method did, we have to set up a condition for convergence. In the code we can just call this the error bound. We will set it to some arbitrarily small value."
     ]
    },
    {
     "cell_type": "code",
     "collapsed": false,
     "input": [
      "# setting up a break criterion for our loop\n",
      "error_bound = 0.0001\n",
      "\n",
      "for i in range(0,N-1):\n",
      "\tf2[0] = f2guess[i]\n",
      "\tfor j in range(0,N-1):\n",
      "\t\tf[j+1] = f[j] + f1[j]*dn\n",
      "\t\tf1[j+1] = f1[j] + f2[j]*dn\n",
      "\t\tf2[j+1] = f2[j] - 0.5*f[j]*f2[j]*dn\n",
      "\n",
      "\t\tf3[j+1] = f3[j] + f3[j]*dn\n",
      "\t\tf4[j+1] = f4[j] + f5[j]*dn\n",
      "\t\tf5[j+1] = f5[j] - 0.5*(f3[j]*f2[j] + f[j]*f5[j])*dn\n",
      "\n",
      "\tf2guess[i+1] = f2guess[i] - ((f1[-1]-1)/f4[-1])\n",
      "\n",
      "\tif abs(f1[-1]-1)<=error_bound:\n",
      "\t\tprint 'Final value of f1: ',f1[-1]\n",
      "\t\tprint 'Chosen value of f2[0]: ', f2[0]\n",
      "\t\tprint 'Number of guesses: ', i\n",
      "\t\tbreak"
     ],
     "language": "python",
     "metadata": {},
     "outputs": [
      {
       "output_type": "stream",
       "stream": "stdout",
       "text": [
        "Final value of f1:  0.999950414717\n",
        "Chosen value of f2[0]:  0.330284811375\n",
        "Number of guesses:  8\n"
       ]
      }
     ],
     "prompt_number": 162
    },
    {
     "cell_type": "markdown",
     "metadata": {},
     "source": [
      "Look at that!\n",
      "\n",
      "We converge to the same values for $f_1(\\infty)$ and for the correct initial condition for $f_2$ but with an order of magnitude fewer guesses!\n",
      "\n",
      "As said, the speed of the method depends of the quality of the initial guess. Try changing the value of the initial guess to see how it effects the number of required guesses before convergence.\n",
      "\n",
      "In the coming notebooks we will look at other interesting applications of our knowledge to fluids and other engineering problems."
     ]
    },
    {
     "cell_type": "heading",
     "level": 5,
     "metadata": {},
     "source": [
      "Dig Deeper"
     ]
    },
    {
     "cell_type": "markdown",
     "metadata": {},
     "source": [
      "We've shown the Newton-Raphson method greatly reduces the number of guesses required to converge on the answer, but the computation has a few more steps. Use the timeit functionality to see how the computational time compares.\n",
      "\n",
      "Is it faster or slower?  With a more complex problem do you think taking the time to exploy the Newton-Raphson Method would be advantageous? "
     ]
    },
    {
     "cell_type": "heading",
     "level": 2,
     "metadata": {},
     "source": [
      "References"
     ]
    },
    {
     "cell_type": "markdown",
     "metadata": {},
     "source": [
      "* Pozrikidis, C. Introduction to Theoretical and Computational Fluid Dynamics. New York: Oxford UP, 1997. Print.\n",
      "\n",
      "* Ben-Israel, Adi. \"A Newton-Raphson Method for the Solution of Systems of Equations.\" Journal of Mathematical Analysis and Applications 15.2 (1966): 243-52. Web.\n",
      "\n",
      "* Oteh, Uche. Mechanics of Fluids. Bloomington, IN: AuthorHouse, 2008. Print."
     ]
    },
    {
     "cell_type": "code",
     "collapsed": false,
     "input": [
      "from IPython.core.display import HTML\n",
      "css_file = '../../numerical-mooc/styles/numericalmoocstyle.css'\n",
      "HTML(open(css_file, \"r\").read())"
     ],
     "language": "python",
     "metadata": {},
     "outputs": [
      {
       "html": [
        "<link href='http://fonts.googleapis.com/css?family=Alegreya+Sans:100,300,400,500,700,800,900,100italic,300italic,400italic,500italic,700italic,800italic,900italic' rel='stylesheet' type='text/css'>\n",
        "<link href='http://fonts.googleapis.com/css?family=Arvo:400,700,400italic' rel='stylesheet' type='text/css'>\n",
        "<link href='http://fonts.googleapis.com/css?family=PT+Mono' rel='stylesheet' type='text/css'>\n",
        "<link href='http://fonts.googleapis.com/css?family=Shadows+Into+Light' rel='stylesheet' type='text/css'>\n",
        "<link href='http://fonts.googleapis.com/css?family=Nixie+One' rel='stylesheet' type='text/css'>\n",
        "<style>\n",
        "\n",
        "@font-face {\n",
        "    font-family: \"Computer Modern\";\n",
        "    src: url('http://mirrors.ctan.org/fonts/cm-unicode/fonts/otf/cmunss.otf');\n",
        "}\n",
        "\n",
        "#notebook_panel { /* main background */\n",
        "    background: rgb(245,245,245);\n",
        "}\n",
        "\n",
        "div.cell { /* set cell width */\n",
        "    width: 750px;\n",
        "}\n",
        "\n",
        "div #notebook { /* centre the content */\n",
        "    background: #fff; /* white background for content */\n",
        "    width: 1000px;\n",
        "    margin: auto;\n",
        "    padding-left: 0em;\n",
        "}\n",
        "\n",
        "#notebook li { /* More space between bullet points */\n",
        "margin-top:0.8em;\n",
        "}\n",
        "\n",
        "/* draw border around running cells */\n",
        "div.cell.border-box-sizing.code_cell.running { \n",
        "    border: 1px solid #111;\n",
        "}\n",
        "\n",
        "/* Put a solid color box around each cell and its output, visually linking them*/\n",
        "div.cell.code_cell {\n",
        "    background-color: rgb(256,256,256); \n",
        "    border-radius: 0px; \n",
        "    padding: 0.5em;\n",
        "    margin-left:1em;\n",
        "    margin-top: 1em;\n",
        "}\n",
        "\n",
        "div.text_cell_render{\n",
        "    font-family: 'Alegreya Sans' sans-serif;\n",
        "    line-height: 140%;\n",
        "    font-size: 125%;\n",
        "    font-weight: 400;\n",
        "    width:600px;\n",
        "    margin-left:auto;\n",
        "    margin-right:auto;\n",
        "}\n",
        "\n",
        "\n",
        "/* Formatting for header cells */\n",
        ".text_cell_render h1 {\n",
        "    font-family: 'Nixie One', serif;\n",
        "    font-style:regular;\n",
        "    font-weight: 400;    \n",
        "    font-size: 45pt;\n",
        "    line-height: 100%;\n",
        "    color: rgb(0,51,102);\n",
        "    margin-bottom: 0.5em;\n",
        "    margin-top: 0.5em;\n",
        "    display: block;\n",
        "}\t\n",
        ".text_cell_render h2 {\n",
        "    font-family: 'Nixie One', serif;\n",
        "    font-weight: 400;\n",
        "    font-size: 30pt;\n",
        "    line-height: 100%;\n",
        "    color: rgb(0,51,102);\n",
        "    margin-bottom: 0.1em;\n",
        "    margin-top: 0.3em;\n",
        "    display: block;\n",
        "}\t\n",
        "\n",
        ".text_cell_render h3 {\n",
        "    font-family: 'Nixie One', serif;\n",
        "    margin-top:16px;\n",
        "\tfont-size: 22pt;\n",
        "    font-weight: 600;\n",
        "    margin-bottom: 3px;\n",
        "    font-style: regular;\n",
        "    color: rgb(102,102,0);\n",
        "}\n",
        "\n",
        ".text_cell_render h4 {    /*Use this for captions*/\n",
        "    font-family: 'Nixie One', serif;\n",
        "    font-size: 14pt;\n",
        "    text-align: center;\n",
        "    margin-top: 0em;\n",
        "    margin-bottom: 2em;\n",
        "    font-style: regular;\n",
        "}\n",
        "\n",
        ".text_cell_render h5 {  /*Use this for small titles*/\n",
        "    font-family: 'Nixie One', sans-serif;\n",
        "    font-weight: 400;\n",
        "    font-size: 16pt;\n",
        "    color: rgb(163,0,0);\n",
        "    font-style: italic;\n",
        "    margin-bottom: .1em;\n",
        "    margin-top: 0.8em;\n",
        "    display: block;\n",
        "}\n",
        "\n",
        ".text_cell_render h6 { /*use this for copyright note*/\n",
        "    font-family: 'PT Mono', sans-serif;\n",
        "    font-weight: 300;\n",
        "    font-size: 9pt;\n",
        "    line-height: 100%;\n",
        "    color: grey;\n",
        "    margin-bottom: 1px;\n",
        "    margin-top: 1px;\n",
        "}\n",
        "\n",
        ".CodeMirror{\n",
        "        font-family: \"PT Mono\";\n",
        "        font-size: 90%;\n",
        "}\n",
        "\n",
        "</style>\n",
        "<script>\n",
        "    MathJax.Hub.Config({\n",
        "                        TeX: {\n",
        "                           extensions: [\"AMSmath.js\"],\n",
        "                           equationNumbers: { autoNumber: \"AMS\", useLabelIds: true}\n",
        "                           },\n",
        "                tex2jax: {\n",
        "                    inlineMath: [ ['$','$'], [\"\\\\(\",\"\\\\)\"] ],\n",
        "                    displayMath: [ ['$$','$$'], [\"\\\\[\",\"\\\\]\"] ]\n",
        "                },\n",
        "                displayAlign: 'center', // Change this to 'center' to center equations.\n",
        "                \"HTML-CSS\": {\n",
        "                    styles: {'.MathJax_Display': {\"margin\": 4}}\n",
        "                }\n",
        "        });\n",
        "</script>\n"
       ],
       "metadata": {},
       "output_type": "pyout",
       "prompt_number": 163,
       "text": [
        "<IPython.core.display.HTML at 0x10861f8d0>"
       ]
      }
     ],
     "prompt_number": 163
    }
   ],
   "metadata": {}
  }
 ]
}